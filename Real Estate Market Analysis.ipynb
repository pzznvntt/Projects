{
 "cells": [
  {
   "cell_type": "markdown",
   "metadata": {
    "id": "vwsa4ZqWVZSe"
   },
   "source": [
    "# ALY6110 - Big Data Analysis Using Spark\n",
    "\n",
    "### Group Members\n",
    "#### Ifeoluwa Akinyele-Peter &nbsp;(Ife), &nbsp; Yuxuan Liu &nbsp;(Francis),&nbsp; Fung Sang Kety Tai &nbsp;(Kety)\n"
   ]
  },
  {
   "cell_type": "markdown",
   "metadata": {
    "id": "JfXS9I_-kbWG"
   },
   "source": [
    "### Introduction\n",
    "\n",
    "- Our project focus: Data manipulating & Exploring Prediction Model - Can we predict the selling price of a property based on its characteristics?\n",
    "\n",
    "- The dataset selected: \"UK Property Price official data 1995-202304\"\n",
    "Kaggle:https://www.kaggle.com/datasets/lorentzyeung/price-paid-data-202304/data\n",
    "    - Contains  over 28 million (28,276,228) entries and 16 variables\n",
    "\n",
    "\n",
    "| Variable                          | Description                                                                                                     |\n",
    "|:----------------------------------|:-----------------------------------------------------------------------------------------------------------------|\n",
    "| Transaction_unique_identifier    | Unique identifier for property transactions.                                                                      |\n",
    "| price                             | Sale price of the property, offering financial insight.                                                           |\n",
    "| Date_of_Transfer                   | Date of property transaction for temporal analysis.                                                               |\n",
    "| postcode                          | Property location postal code for geographical insights.                                                          |\n",
    "| Property_Type                      | Type of property (detached, terrace, semi-detached, flat, or other) for property-specific analysis.                |\n",
    "| Old/New                           | Indicates if the property is old or new.                                                                         |\n",
    "| Duration                          | Ownership duration (freehold, leasehold, or unknown) for ownership structure insights.                            |\n",
    "| PAON                              | Primary Addressable Object Name, typically the house number or name for detailed identification.                  |\n",
    "| SAON                              | Secondary Addressable Object Name, providing additional details for properties with multiple units.              |\n",
    "| Street                            | Street name where the property is located.                                                                       |\n",
    "| Locality                          | Additional locality information for property surroundings.                                                       |\n",
    "| Town/City                         | Town or city where the property is located.                                                                      |\n",
    "| District                          | District within a town or city for localized area identification.                                                 |\n",
    "| County                            | Specific county where the property is situated for regional context.                                              |\n",
    "| PPDCategory_Type                  | Category type (usually A or B) indicating different property transaction classifications.                         |\n",
    "| Record_Status - monthly_file_only | Record status (often denoted as A) representing the status of the record in the monthly file.                    |\n",
    "\n",
    "\n",
    "\n",
    "#### Reasons for Dataset Selection\n",
    "\n",
    "1. Large Volume of Data\n",
    "2. Real-world Complexity\n",
    "3. Data Preprocessing Skills Practicing & Predictive Modeling Opportunities\n",
    "\n"
   ]
  },
  {
   "cell_type": "markdown",
   "metadata": {
    "id": "OmzJKINW13FO"
   },
   "source": [
    "## Spark Code"
   ]
  },
  {
   "cell_type": "markdown",
   "metadata": {
    "id": "tkVI7dTD3Pbx"
   },
   "source": [
    "### Import dataset from google drive directly & Read The File in PySpark"
   ]
  },
  {
   "cell_type": "code",
   "execution_count": 1,
   "metadata": {
    "colab": {
     "base_uri": "https://localhost:8080/"
    },
    "id": "Az_kJfvhaIS6",
    "outputId": "2ac0be82-6d76-4634-917f-92b631e772dd"
   },
   "outputs": [
    {
     "name": "stdout",
     "output_type": "stream",
     "text": [
      "Requirement already satisfied: gdown in /usr/local/lib/python3.10/dist-packages (4.6.6)\n",
      "Requirement already satisfied: filelock in /usr/local/lib/python3.10/dist-packages (from gdown) (3.13.1)\n",
      "Requirement already satisfied: requests[socks] in /usr/local/lib/python3.10/dist-packages (from gdown) (2.31.0)\n",
      "Requirement already satisfied: six in /usr/local/lib/python3.10/dist-packages (from gdown) (1.16.0)\n",
      "Requirement already satisfied: tqdm in /usr/local/lib/python3.10/dist-packages (from gdown) (4.66.1)\n",
      "Requirement already satisfied: beautifulsoup4 in /usr/local/lib/python3.10/dist-packages (from gdown) (4.11.2)\n",
      "Requirement already satisfied: soupsieve>1.2 in /usr/local/lib/python3.10/dist-packages (from beautifulsoup4->gdown) (2.5)\n",
      "Requirement already satisfied: charset-normalizer<4,>=2 in /usr/local/lib/python3.10/dist-packages (from requests[socks]->gdown) (3.3.2)\n",
      "Requirement already satisfied: idna<4,>=2.5 in /usr/local/lib/python3.10/dist-packages (from requests[socks]->gdown) (3.6)\n",
      "Requirement already satisfied: urllib3<3,>=1.21.1 in /usr/local/lib/python3.10/dist-packages (from requests[socks]->gdown) (2.0.7)\n",
      "Requirement already satisfied: certifi>=2017.4.17 in /usr/local/lib/python3.10/dist-packages (from requests[socks]->gdown) (2023.11.17)\n",
      "Requirement already satisfied: PySocks!=1.5.7,>=1.5.6 in /usr/local/lib/python3.10/dist-packages (from requests[socks]->gdown) (1.7.1)\n",
      "Collecting pyspark\n",
      "  Downloading pyspark-3.5.0.tar.gz (316.9 MB)\n",
      "\u001b[2K     \u001b[90m━━━━━━━━━━━━━━━━━━━━━━━━━━━━━━━━━━━━━━━━\u001b[0m \u001b[32m316.9/316.9 MB\u001b[0m \u001b[31m4.4 MB/s\u001b[0m eta \u001b[36m0:00:00\u001b[0m\n",
      "\u001b[?25h  Preparing metadata (setup.py) ... \u001b[?25l\u001b[?25hdone\n",
      "Requirement already satisfied: py4j==0.10.9.7 in /usr/local/lib/python3.10/dist-packages (from pyspark) (0.10.9.7)\n",
      "Building wheels for collected packages: pyspark\n",
      "  Building wheel for pyspark (setup.py) ... \u001b[?25l\u001b[?25hdone\n",
      "  Created wheel for pyspark: filename=pyspark-3.5.0-py2.py3-none-any.whl size=317425345 sha256=2a5fb90e5920c8da7541f07fb976e3536b3ef974bfca92a83f6e2cf55aeb42bc\n",
      "  Stored in directory: /root/.cache/pip/wheels/41/4e/10/c2cf2467f71c678cfc8a6b9ac9241e5e44a01940da8fbb17fc\n",
      "Successfully built pyspark\n",
      "Installing collected packages: pyspark\n",
      "Successfully installed pyspark-3.5.0\n"
     ]
    }
   ],
   "source": [
    "!pip install gdown\n",
    "!pip install pyspark"
   ]
  },
  {
   "cell_type": "code",
   "execution_count": 2,
   "metadata": {
    "colab": {
     "base_uri": "https://localhost:8080/",
     "height": 219
    },
    "id": "sATSs49zachE",
    "outputId": "37750b37-9922-4ee3-b53c-73a1ca20b2de"
   },
   "outputs": [
    {
     "data": {
      "text/html": [
       "\n",
       "            <div>\n",
       "                <p><b>SparkSession - in-memory</b></p>\n",
       "                \n",
       "        <div>\n",
       "            <p><b>SparkContext</b></p>\n",
       "\n",
       "            <p><a href=\"http://acd84685a04d:4040\">Spark UI</a></p>\n",
       "\n",
       "            <dl>\n",
       "              <dt>Version</dt>\n",
       "                <dd><code>v3.5.0</code></dd>\n",
       "              <dt>Master</dt>\n",
       "                <dd><code>local[*]</code></dd>\n",
       "              <dt>AppName</dt>\n",
       "                <dd><code>pyspark-shell</code></dd>\n",
       "            </dl>\n",
       "        </div>\n",
       "        \n",
       "            </div>\n",
       "        "
      ],
      "text/plain": [
       "<pyspark.sql.session.SparkSession at 0x7e7a0ef48ee0>"
      ]
     },
     "execution_count": 2,
     "metadata": {},
     "output_type": "execute_result"
    }
   ],
   "source": [
    "import pyspark\n",
    "\n",
    "from pyspark import SparkContext\n",
    "sc = SparkContext.getOrCreate()\n",
    "\n",
    "from pyspark.sql import SparkSession\n",
    "spark = SparkSession.builder.getOrCreate()\n",
    "spark"
   ]
  },
  {
   "cell_type": "code",
   "execution_count": 3,
   "metadata": {
    "colab": {
     "base_uri": "https://localhost:8080/"
    },
    "id": "oo0BehZVaG0T",
    "outputId": "9dd0dc28-cf2b-4369-91f6-20d35390c90b"
   },
   "outputs": [
    {
     "name": "stderr",
     "output_type": "stream",
     "text": [
      "Downloading...\n",
      "From: https://drive.google.com/uc?id=1UUSiSKiNUof2wjoX04v0tjtHFWnDXLeH\n",
      "To: /content/202304 (1).csv\n",
      "100%|██████████| 4.94G/4.94G [00:39<00:00, 124MB/s]\n"
     ]
    }
   ],
   "source": [
    "import gdown\n",
    "from pyspark.sql import SparkSession\n",
    "from pyspark.sql.types import StructType, StructField, StringType, DoubleType, TimestampType\n",
    "from pyspark.sql.functions import when, to_timestamp, year\n",
    "\n",
    "# Google Drive file ID\n",
    "file_id = '1UUSiSKiNUof2wjoX04v0tjtHFWnDXLeH' # We've used up two members google drive access;\n",
    "#https://drive.google.com/file/d/1UUSiSKiNUof2wjoX04v0tjtHFWnDXLeH/view?usp=share_link\n",
    "\n",
    "# Download the file from Google Drive\n",
    "url = f'https://drive.google.com/uc?id={file_id}'\n",
    "output = '202304 (1).csv'\n",
    "gdown.download(url, output, quiet=False)\n",
    "\n",
    "# Create Spark session\n",
    "spark = SparkSession.builder.appName(\"UK_Housing\").getOrCreate()\n",
    "\n",
    "# Define the schema for the DataFrame\n",
    "schema = StructType([\n",
    "    StructField(\"Transaction_unique_identifier\", StringType(), True),\n",
    "    StructField(\"price\", DoubleType(), True),\n",
    "    StructField(\"Date_of_Transfer\", TimestampType(), True),\n",
    "    StructField(\"postcode\", StringType(), True),\n",
    "    StructField(\"Property_Type\", StringType(), True),\n",
    "    StructField(\"Old/New\", StringType(), True),\n",
    "    StructField(\"Duration\", StringType(), True),\n",
    "    StructField(\"PAON\", StringType(), True),\n",
    "    StructField(\"SAON\", StringType(), True),\n",
    "    StructField(\"Street\", StringType(), True),\n",
    "    StructField(\"Locality\", StringType(), True),\n",
    "    StructField(\"Town/City\", StringType(), True),\n",
    "    StructField(\"District\", StringType(), True),\n",
    "    StructField(\"County\", StringType(), True),\n",
    "    StructField(\"PPDCategory_Type\", StringType(), True),\n",
    "    StructField(\"Record_Status - monthly_file_only\", StringType(), True),\n",
    "])\n",
    "\n",
    "# Read the CSV file with the specified schema and separator\n",
    "df = spark.read.csv(output, header=False, schema=schema, sep=\",\")\n",
    "\n",
    "# Rename the columns to match the specified names\n",
    "colnames = ['Transaction_unique_identifier', 'Price', 'Date_of_Transfer',\n",
    "            'postcode', 'Property_Type', 'Old/New',\n",
    "            'Duration', 'PAON', 'SAON',\n",
    "            'Street', 'Locality', 'Town/City',\n",
    "            'District', 'County', 'PPDCategory_Type',\n",
    "            'Record_Status - monthly_file_only'\n",
    "            ]\n",
    "\n",
    "df = df.toDF(*colnames)  # Rename the columns to match the specified names\n",
    "\n",
    "# Convert \"Date_of_Transfer\" to a timestamp format\n",
    "df = df.withColumn(\"Date_of_Transfer\", to_timestamp(df[\"Date_of_Transfer\"], \"yyyy-MM-dd HH:mm\"))\n",
    "\n",
    "# Create a new column \"Year\" based on \"Date_of_Transfer\"\n",
    "df = df.withColumn(\"Year\", year(\"Date_of_Transfer\"))\n",
    "\n",
    "# Define the mapping for Property_Type\n",
    "mapping = {\n",
    "    'F': 'Flat',\n",
    "    'T': 'Terrace',\n",
    "    'D': 'Detached',\n",
    "    'S': 'Semi-Detached',\n",
    "    'O': 'Others'\n",
    "}\n",
    "\n",
    "# Update the Property_Type column using the mapping\n",
    "for code, property_type in mapping.items():\n",
    "    df = df.withColumn(\"Property_Type\", when(df[\"Property_Type\"] == code, property_type).otherwise(df[\"Property_Type\"]))\n",
    "\n",
    "# Show the updated DataFrame\n",
    "\n",
    "#df.show(5)\n",
    "\n",
    "# #references:\n",
    "# # https://sparkbyexamples.com/pyspark/pyspark-structtype-and-structfield/?expand_article=1\n",
    "# # https://sparkbyexamples.com/pyspark/pyspark-read-csv-file-into-dataframe/\n",
    "# # https://github.com/wkentaro/gdown\n",
    "# # https://safjan.com/download-data-google-drive-colab-gdown/\n",
    "# # https://rockyshikoku.medium.com/i-want-to-download-google-drive-files-from-code-gdown-7bcf0a450962\n"
   ]
  },
  {
   "cell_type": "markdown",
   "metadata": {
    "id": "B8KsBIbEq8CZ"
   },
   "source": [
    "### Dataset overview and preparation\n"
   ]
  },
  {
   "cell_type": "markdown",
   "metadata": {
    "id": "KC0ZHAyM3ehm"
   },
   "source": [
    "#### Dataset overview"
   ]
  },
  {
   "cell_type": "code",
   "execution_count": null,
   "metadata": {
    "colab": {
     "base_uri": "https://localhost:8080/"
    },
    "id": "aM7UBs9T3m8U",
    "outputId": "273b35d6-786f-41d9-ff5f-7043d0396925"
   },
   "outputs": [
    {
     "name": "stdout",
     "output_type": "stream",
     "text": [
      "root\n",
      " |-- Transaction_unique_identifier: string (nullable = true)\n",
      " |-- Price: double (nullable = true)\n",
      " |-- Date_of_Transfer: timestamp (nullable = true)\n",
      " |-- postcode: string (nullable = true)\n",
      " |-- Property_Type: string (nullable = true)\n",
      " |-- Old/New: string (nullable = true)\n",
      " |-- Duration: string (nullable = true)\n",
      " |-- PAON: string (nullable = true)\n",
      " |-- SAON: string (nullable = true)\n",
      " |-- Street: string (nullable = true)\n",
      " |-- Locality: string (nullable = true)\n",
      " |-- Town/City: string (nullable = true)\n",
      " |-- District: string (nullable = true)\n",
      " |-- County: string (nullable = true)\n",
      " |-- PPDCategory_Type: string (nullable = true)\n",
      " |-- Record_Status - monthly_file_only: string (nullable = true)\n",
      " |-- Year: integer (nullable = true)\n",
      "\n"
     ]
    }
   ],
   "source": [
    "df.printSchema()"
   ]
  },
  {
   "cell_type": "code",
   "execution_count": null,
   "metadata": {
    "colab": {
     "base_uri": "https://localhost:8080/"
    },
    "id": "Y795UaE73tHw",
    "outputId": "dfcdd6d7-6ad0-43d6-a9d8-e45e103ecd4e"
   },
   "outputs": [
    {
     "data": {
      "text/plain": [
       "28276228"
      ]
     },
     "execution_count": 36,
     "metadata": {},
     "output_type": "execute_result"
    }
   ],
   "source": [
    "df.count()"
   ]
  },
  {
   "cell_type": "code",
   "execution_count": null,
   "metadata": {
    "colab": {
     "base_uri": "https://localhost:8080/"
    },
    "id": "5B6obp9-dpv_",
    "outputId": "fabf9df4-99ff-4ce1-bfa1-ab9e755cde7b"
   },
   "outputs": [
    {
     "name": "stdout",
     "output_type": "stream",
     "text": [
      "+------------------------------------+------------+-----------------------+---------------+--------------------+--------------+---------------+-----------+-----------+-------------+---------------+----------------+---------------+-------------+-----------------------+----------------------------------------+-----------+\n",
      "|Unique_Transaction_unique_identifier|Unique_Price|Unique_Date_of_Transfer|Unique_postcode|Unique_Property_Type|Unique_Old/New|Unique_Duration|Unique_PAON|Unique_SAON|Unique_Street|Unique_Locality|Unique_Town/City|Unique_District|Unique_County|Unique_PPDCategory_Type|Unique_Record_Status - monthly_file_only|Unique_Year|\n",
      "+------------------------------------+------------+-----------------------+---------------+--------------------+--------------+---------------+-----------+-----------+-------------+---------------+----------------+---------------+-------------+-----------------------+----------------------------------------+-----------+\n",
      "|                            28276228|      242050|                  10338|        1296549|                   5|             2|              3|     540967|      63238|       326400|          23862|            1172|            467|          132|                      2|                                       1|         29|\n",
      "+------------------------------------+------------+-----------------------+---------------+--------------------+--------------+---------------+-----------+-----------+-------------+---------------+----------------+---------------+-------------+-----------------------+----------------------------------------+-----------+\n",
      "\n"
     ]
    }
   ],
   "source": [
    "#Count unique values in each column\n",
    "from pyspark.sql.functions import col, countDistinct\n",
    "\n",
    "unique_counts_all = df.agg(*(countDistinct\n",
    "(col(c)).alias(f\"Unique_{c}\") for c in df.columns))\n",
    "\n",
    "unique_counts_all.show()"
   ]
  },
  {
   "cell_type": "markdown",
   "metadata": {
    "id": "rmUFFdyn3-BY"
   },
   "source": [
    "#### Missing **values**"
   ]
  },
  {
   "cell_type": "code",
   "execution_count": null,
   "metadata": {
    "colab": {
     "base_uri": "https://localhost:8080/"
    },
    "id": "Uf_oe6lQ3-UX",
    "outputId": "a8d79a49-9d1a-4e9c-cb5e-5a8e9ba23967"
   },
   "outputs": [
    {
     "name": "stdout",
     "output_type": "stream",
     "text": [
      "+-----------------------------+-----+----------------+--------+-------------+-------+--------+----+--------+------+--------+---------+--------+------+----------------+---------------------------------+\n",
      "|Transaction_unique_identifier|Price|Date_of_Transfer|postcode|Property_Type|Old/New|Duration|PAON|    SAON|Street|Locality|Town/City|District|County|PPDCategory_Type|Record_Status - monthly_file_only|\n",
      "+-----------------------------+-----+----------------+--------+-------------+-------+--------+----+--------+------+--------+---------+--------+------+----------------+---------------------------------+\n",
      "|                            0|    0|               0|   45969|            0|      0|       0|4189|24950368|447756|10085851|        0|       0|     0|               0|                                0|\n",
      "+-----------------------------+-----+----------------+--------+-------------+-------+--------+----+--------+------+--------+---------+--------+------+----------------+---------------------------------+\n",
      "\n"
     ]
    }
   ],
   "source": [
    "# Counting missing and null values in each column\n",
    "from pyspark.sql.functions import col, count, when, isnan\n",
    "\n",
    "missing_values = df.select([count(when(isnan(c) | col(c).isNull(), c)).alias(c) for c in df.columns])\n",
    "\n",
    "\n",
    "missing_values.show()\n"
   ]
  },
  {
   "cell_type": "markdown",
   "metadata": {
    "id": "GOlKm0_7z7P-"
   },
   "source": [
    "#### Summary for Price"
   ]
  },
  {
   "cell_type": "code",
   "execution_count": null,
   "metadata": {
    "colab": {
     "base_uri": "https://localhost:8080/"
    },
    "id": "OoNC8-7sz5m_",
    "outputId": "c005621b-c4ea-4cc9-f82e-adb92cd74641"
   },
   "outputs": [
    {
     "name": "stdout",
     "output_type": "stream",
     "text": [
      "+--------+------------------+---+-------+\n",
      "|  median|              mean|min|    max|\n",
      "+--------+------------------+---+-------+\n",
      "|149950.0|218130.49009903302|1.0|5.943E8|\n",
      "+--------+------------------+---+-------+\n",
      "\n"
     ]
    }
   ],
   "source": [
    "# Calculate median, mean, min, max of the 'price' column\n",
    "from pyspark.sql import functions as F\n",
    "statistics_df = df.agg(\n",
    "    F.expr('percentile_approx(price, 0.5)').alias('median'),\n",
    "    F.mean('price').alias('mean'),\n",
    "    F.min('price').alias('min'),\n",
    "    F.max('price').alias('max')\n",
    ")\n",
    "\n",
    "statistics_df.show()"
   ]
  },
  {
   "cell_type": "markdown",
   "metadata": {
    "id": "UMzUGsyX_ePz"
   },
   "source": [
    "#### Outliers Detection & Handling for Price"
   ]
  },
  {
   "cell_type": "code",
   "execution_count": null,
   "metadata": {
    "colab": {
     "background_save": true,
     "base_uri": "https://localhost:8080/"
    },
    "id": "8lGZsNw62arB",
    "outputId": "1b229a14-ac65-4af5-c89a-82295ba9e005"
   },
   "outputs": [
    {
     "name": "stdout",
     "output_type": "stream",
     "text": [
      "+-----------------------------+---------+----------------+--------+-------------+-------+--------+--------------+----+--------------------+--------+-----------+--------------------+--------------+----------------+---------------------------------+\n",
      "|Transaction_unique_identifier|    price|Date_of_Transfer|postcode|Property_Type|Old/New|Duration|          PAON|SAON|              Street|Locality|  Town/City|            District|        County|PPDCategory_Type|Record_Status - monthly_file_only|\n",
      "+-----------------------------+---------+----------------+--------+-------------+-------+--------+--------------+----+--------------------+--------+-----------+--------------------+--------------+----------------+---------------------------------+\n",
      "|         {71A16873-2ABB-45...|5610000.0|1995-01-09 00:00|KT22 7DE|         Flat|      N|       F|THORNETS HOUSE|NULL|     BUILDER GARDENS|    NULL|LEATHERHEAD|         MOLE VALLEY|        SURREY|               A|                                A|\n",
      "|         {3757D96D-937B-46...|3700500.0|1995-01-31 00:00|SN25 3DX|         Flat|      N|       F|             6|NULL|     CHARLBURY CLOSE| SWINDON|    SWINDON|          THAMESDOWN|    THAMESDOWN|               A|                                A|\n",
      "|         {FF14374C-A197-49...|3000000.0|1995-04-07 00:00| W14 8JP|     Detached|      N|       F|             8|NULL|    ADDISON CRESCENT|  LONDON|     LONDON|KENSINGTON AND CH...|GREATER LONDON|               A|                                A|\n",
      "|         {D0EF2025-2C97-45...|2850000.0|1995-05-04 00:00|  W8 7HF|Semi-Detached|      N|       L|             9|NULL|UPPER PHILLIMORE ...|  LONDON|     LONDON|KENSINGTON AND CH...|GREATER LONDON|               A|                                A|\n",
      "|         {21E5FEB6-8C25-24...|5610000.0|1995-01-09 00:00|KT22 7LW|       Others|      N|       F|  TANNER HOUSE|NULL|     CHALLENGE COURT|    NULL|LEATHERHEAD|         MOLE VALLEY|        SURREY|               B|                                A|\n",
      "+-----------------------------+---------+----------------+--------+-------------+-------+--------+--------------+----+--------------------+--------+-----------+--------------------+--------------+----------------+---------------------------------+\n",
      "only showing top 5 rows\n",
      "\n",
      "Total count of outliers in price: 53913\n"
     ]
    }
   ],
   "source": [
    "from pyspark.sql.functions import col, mean, stddev, lit\n",
    "\n",
    "# Calculate mean and standard deviation\n",
    "stats = df.select(mean(col('price')).alias('mean'), stddev(col('price')).alias('std')).collect()\n",
    "mean_price = stats[0]['mean']\n",
    "std_price = stats[0]['std']\n",
    "\n",
    "# Set the threshold for outliers\n",
    "threshold = 3\n",
    "\n",
    "# Filter outliers\n",
    "outliers = df.filter((col('price') > (mean_price + threshold * std_price)) | (col('price') < (mean_price - threshold * std_price)))\n",
    "\n",
    "# Show the outliers\n",
    "outliers.show(5)\n",
    "\n",
    "# Show the total count of outliers\n",
    "total_outliers_count = outliers.count()\n",
    "print(f'Total count of outliers in price: {total_outliers_count}')\n"
   ]
  },
  {
   "cell_type": "code",
   "execution_count": null,
   "metadata": {
    "colab": {
     "background_save": true
    },
    "id": "AKFN8FFz2lcR",
    "outputId": "63cc1eb7-b062-4b2f-8981-11f6c9802ad8"
   },
   "outputs": [
    {
     "data": {
      "image/png": "[encoded data removed]",
      "text/plain": [
       "<Figure size 1200x600 with 1 Axes>"
      ]
     },
     "metadata": {},
     "output_type": "display_data"
    }
   ],
   "source": [
    "import matplotlib.pyplot as plt\n",
    "\n",
    "# Convert PySpark DataFrame to Pandas for plotting outliers\n",
    "outliers_pd = outliers.select(\"price\").toPandas()\n",
    "\n",
    "# Convert prices to million\n",
    "outliers_pd[\"price_M\"] = outliers_pd[\"price\"] / 1e6\n",
    "\n",
    "# Create a histogram with outliers highlighted\n",
    "plt.figure(figsize=(12, 6))\n",
    "n, bins, patches = plt.hist(outliers_pd[\"price_M\"], bins=50, color='red', label='Outliers', alpha=0.7)\n",
    "plt.title(\"Distribution of Price Outliers\")\n",
    "plt.xlabel(\"Price (in Million)\")\n",
    "plt.ylabel(\"Count\")\n",
    "plt.legend()\n",
    "\n",
    "# Set y-axis limits\n",
    "plt.ylim(0, 50000)\n",
    "\n",
    "# Annotate each bin with its count\n",
    "for count, bin_val in zip(n, bins):\n",
    "    plt.text(bin_val, count, str(int(count)), ha='center', va='bottom', fontsize=8)\n",
    "\n",
    "plt.show()\n"
   ]
  },
  {
   "cell_type": "markdown",
   "metadata": {
    "id": "j1-Ipgt4sV5y"
   },
   "source": [
    "### Dashboard Attempt"
   ]
  },
  {
   "cell_type": "code",
   "execution_count": 5,
   "metadata": {
    "colab": {
     "base_uri": "https://localhost:8080/"
    },
    "id": "GD0XSAbnt__-",
    "outputId": "34df4b98-35f7-4855-b0e0-312f8329653c"
   },
   "outputs": [
    {
     "name": "stdout",
     "output_type": "stream",
     "text": [
      "Collecting dash\n",
      "  Downloading dash-2.14.2-py3-none-any.whl (10.2 MB)\n",
      "\u001b[2K     \u001b[90m━━━━━━━━━━━━━━━━━━━━━━━━━━━━━━━━━━━━━━━━\u001b[0m \u001b[32m10.2/10.2 MB\u001b[0m \u001b[31m27.9 MB/s\u001b[0m eta \u001b[36m0:00:00\u001b[0m\n",
      "\u001b[?25hRequirement already satisfied: Flask<3.1,>=1.0.4 in /usr/local/lib/python3.10/dist-packages (from dash) (2.2.5)\n",
      "Requirement already satisfied: Werkzeug<3.1 in /usr/local/lib/python3.10/dist-packages (from dash) (3.0.1)\n",
      "Requirement already satisfied: plotly>=5.0.0 in /usr/local/lib/python3.10/dist-packages (from dash) (5.15.0)\n",
      "Collecting dash-html-components==2.0.0 (from dash)\n",
      "  Downloading dash_html_components-2.0.0-py3-none-any.whl (4.1 kB)\n",
      "Collecting dash-core-components==2.0.0 (from dash)\n",
      "  Downloading dash_core_components-2.0.0-py3-none-any.whl (3.8 kB)\n",
      "Collecting dash-table==5.0.0 (from dash)\n",
      "  Downloading dash_table-5.0.0-py3-none-any.whl (3.9 kB)\n",
      "Requirement already satisfied: typing-extensions>=4.1.1 in /usr/local/lib/python3.10/dist-packages (from dash) (4.5.0)\n",
      "Requirement already satisfied: requests in /usr/local/lib/python3.10/dist-packages (from dash) (2.31.0)\n",
      "Collecting retrying (from dash)\n",
      "  Downloading retrying-1.3.4-py3-none-any.whl (11 kB)\n",
      "Collecting ansi2html (from dash)\n",
      "  Downloading ansi2html-1.9.1-py3-none-any.whl (17 kB)\n",
      "Requirement already satisfied: nest-asyncio in /usr/local/lib/python3.10/dist-packages (from dash) (1.5.8)\n",
      "Requirement already satisfied: setuptools in /usr/local/lib/python3.10/dist-packages (from dash) (67.7.2)\n",
      "Requirement already satisfied: importlib-metadata in /usr/local/lib/python3.10/dist-packages (from dash) (7.0.0)\n",
      "Requirement already satisfied: Jinja2>=3.0 in /usr/local/lib/python3.10/dist-packages (from Flask<3.1,>=1.0.4->dash) (3.1.2)\n",
      "Requirement already satisfied: itsdangerous>=2.0 in /usr/local/lib/python3.10/dist-packages (from Flask<3.1,>=1.0.4->dash) (2.1.2)\n",
      "Requirement already satisfied: click>=8.0 in /usr/local/lib/python3.10/dist-packages (from Flask<3.1,>=1.0.4->dash) (8.1.7)\n",
      "Requirement already satisfied: tenacity>=6.2.0 in /usr/local/lib/python3.10/dist-packages (from plotly>=5.0.0->dash) (8.2.3)\n",
      "Requirement already satisfied: packaging in /usr/local/lib/python3.10/dist-packages (from plotly>=5.0.0->dash) (23.2)\n",
      "Requirement already satisfied: MarkupSafe>=2.1.1 in /usr/local/lib/python3.10/dist-packages (from Werkzeug<3.1->dash) (2.1.3)\n",
      "Requirement already satisfied: zipp>=0.5 in /usr/local/lib/python3.10/dist-packages (from importlib-metadata->dash) (3.17.0)\n",
      "Requirement already satisfied: charset-normalizer<4,>=2 in /usr/local/lib/python3.10/dist-packages (from requests->dash) (3.3.2)\n",
      "Requirement already satisfied: idna<4,>=2.5 in /usr/local/lib/python3.10/dist-packages (from requests->dash) (3.6)\n",
      "Requirement already satisfied: urllib3<3,>=1.21.1 in /usr/local/lib/python3.10/dist-packages (from requests->dash) (2.0.7)\n",
      "Requirement already satisfied: certifi>=2017.4.17 in /usr/local/lib/python3.10/dist-packages (from requests->dash) (2023.11.17)\n",
      "Requirement already satisfied: six>=1.7.0 in /usr/local/lib/python3.10/dist-packages (from retrying->dash) (1.16.0)\n",
      "Installing collected packages: dash-table, dash-html-components, dash-core-components, retrying, ansi2html, dash\n",
      "Successfully installed ansi2html-1.9.1 dash-2.14.2 dash-core-components-2.0.0 dash-html-components-2.0.0 dash-table-5.0.0 retrying-1.3.4\n"
     ]
    }
   ],
   "source": [
    "!pip install dash"
   ]
  },
  {
   "cell_type": "code",
   "execution_count": 6,
   "metadata": {
    "colab": {
     "base_uri": "https://localhost:8080/",
     "height": 671
    },
    "id": "Y7n_0fvx0fl8",
    "outputId": "500a5fe5-ee2b-4926-a651-6841c6a3e42c"
   },
   "outputs": [
    {
     "data": {
      "application/javascript": [
       "(async (port, path, width, height, cache, element) => {\n",
       "    if (!google.colab.kernel.accessAllowed && !cache) {\n",
       "      return;\n",
       "    }\n",
       "    element.appendChild(document.createTextNode(''));\n",
       "    const url = await google.colab.kernel.proxyPort(port, {cache});\n",
       "    const iframe = document.createElement('iframe');\n",
       "    iframe.src = new URL(path, url).toString();\n",
       "    iframe.height = height;\n",
       "    iframe.width = width;\n",
       "    iframe.style.border = 0;\n",
       "    iframe.allow = [\n",
       "        'accelerometer',\n",
       "        'autoplay',\n",
       "        'camera',\n",
       "        'clipboard-read',\n",
       "        'clipboard-write',\n",
       "        'gyroscope',\n",
       "        'magnetometer',\n",
       "        'microphone',\n",
       "        'serial',\n",
       "        'usb',\n",
       "        'xr-spatial-tracking',\n",
       "    ].join('; ');\n",
       "    element.appendChild(iframe);\n",
       "  })(8050, \"/\", \"100%\", 650, false, window.element)"
      ],
      "text/plain": [
       "<IPython.core.display.Javascript object>"
      ]
     },
     "metadata": {},
     "output_type": "display_data"
    }
   ],
   "source": [
    "# working year sidebar & 4 plots\n",
    "import dash\n",
    "from dash import dcc, html\n",
    "from dash.dependencies import Input, Output\n",
    "import plotly.express as px\n",
    "from pyspark.sql.functions import year\n",
    "import pyspark.sql.functions as F\n",
    "\n",
    "# Plot 1: Average Price Over Time\n",
    "price_over_time = df.groupBy(year('Date_of_Transfer').alias('Year')).avg('price').sort('Year').toPandas()\n",
    "fig1 = px.line(price_over_time, x='Year', y='avg(price)', labels={'avg(price)': 'Average Price'})\n",
    "fig1.update_layout(title='Average Property Price Over Time')\n",
    "\n",
    "# Plot 2: Temporal Trends in Property Transactions\n",
    "df_temporal = df.withColumn(\"Year\", F.year(\"Date_of_Transfer\"))\n",
    "transactions_by_year = df_temporal.groupBy(\"Year\").agg(F.count(\"Transaction_unique_identifier\").alias(\"num_transactions\"))\n",
    "transactions_by_year_pandas = transactions_by_year.toPandas()\n",
    "fig2 = px.line(transactions_by_year_pandas, x='Year', y='num_transactions', labels={'num_transactions': 'Number of Transactions'})\n",
    "fig2.update_layout(title='Temporal Trends in Property Transactions')\n",
    "\n",
    "# Plot 3: Correlation between Property Price and Property Type\n",
    "correlation_df = df.groupBy(\"Property_Type\").agg(F.avg(\"price\").alias(\"avg_price\"))\n",
    "correlation_pandas = correlation_df.toPandas()\n",
    "fig3 = px.bar(correlation_pandas, x='avg_price', y='Property_Type', orientation='h',\n",
    "              labels={'avg_price': 'Average Price', 'Property_Type': 'Property Type'},\n",
    "              title='Correlation between Property Price and Property Type')\n",
    "\n",
    "# Plot 4: Pie Chart of Property Types\n",
    "# Calculate filtered_property_type_counts here\n",
    "filtered_property_type_counts = df.groupBy('Property_Type').count().collect()\n",
    "filtered_property_type_counts_df = spark.createDataFrame(filtered_property_type_counts).toPandas()\n",
    "fig4 = px.pie(filtered_property_type_counts_df, names='Property_Type', values='count',\n",
    "              title='Pie Chart of Property Types',\n",
    "              labels={'count': 'Count', 'Property_Type': 'Property Type'},\n",
    "              hole=0.3)\n",
    "\n",
    "# Creating the Dash app\n",
    "app = dash.Dash(__name__)\n",
    "\n",
    "# Define the layout of the dashboard\n",
    "app.layout = html.Div([\n",
    "    # Sidebar with filters\n",
    "    html.Div([\n",
    "        html.Label('Filter by Year:', style={'font-size': '18px', 'font-weight': 'bold'}),\n",
    "        dcc.RangeSlider(\n",
    "            id='year-slider',\n",
    "            min=price_over_time['Year'].min(),\n",
    "            max=price_over_time['Year'].max(),\n",
    "            step=1,\n",
    "            marks={str(year): str(year) for year in range(price_over_time['Year'].min(), price_over_time['Year'].max() + 1, 8)},\n",
    "            value=[price_over_time['Year'].min(), price_over_time['Year'].max()]\n",
    "        ),\n",
    "    ], style={'width': '20%', 'display': 'inline-block', 'margin-right': '10px'}),\n",
    "\n",
    "    html.Div([\n",
    "        html.H1(\"Property Market Analysis Dashboard\", style={'font-size': '32px', 'font-weight': 'bold'}),\n",
    "\n",
    "        # Plot 1: Average Price Over Time\n",
    "        dcc.Graph(id='average-price-over-time', figure=fig1),\n",
    "\n",
    "        # Plot 2: Temporal Trends in Property Transactions\n",
    "        dcc.Graph(id='temporal-trends', figure=fig2),\n",
    "\n",
    "        # Plot 3: Correlation between Property Price and Property Type\n",
    "        dcc.Graph(id='correlation-plot', figure=fig3, style={'width': '50%', 'float': 'left', 'display': 'inline-block'}),\n",
    "\n",
    "        # Plot 4: Pie Chart of Property Types\n",
    "        dcc.Graph(id='property-type-pie', figure=fig4, style={'width': '50%', 'float': 'left', 'display': 'inline-block'}),\n",
    "    ]),\n",
    "])\n",
    "\n",
    "# Callback to update plots based on the selected year range, counties, and property types\n",
    "@app.callback(\n",
    "    [Output('average-price-over-time', 'figure'),\n",
    "     Output('temporal-trends', 'figure'),\n",
    "     Output('correlation-plot', 'figure'),\n",
    "     Output('property-type-pie', 'figure')],\n",
    "    [Input('year-slider', 'value')]\n",
    ")\n",
    "def update_plots(selected_years):\n",
    "    # Convert selected_years to integers\n",
    "    selected_years = list(map(int, selected_years))\n",
    "\n",
    "    # Filter data based on selected years\n",
    "    filtered_price_over_time = price_over_time[\n",
    "        (price_over_time['Year'] >= selected_years[0]) & (price_over_time['Year'] <= selected_years[1])\n",
    "    ]\n",
    "\n",
    "    filtered_transactions_by_year = transactions_by_year_pandas[\n",
    "        (transactions_by_year_pandas['Year'] >= selected_years[0]) & (transactions_by_year_pandas['Year'] <= selected_years[1])\n",
    "    ]\n",
    "\n",
    "    # Update Plot 1\n",
    "    updated_fig1 = px.line(filtered_price_over_time, x='Year', y='avg(price)', labels={'avg(price)': 'Average Price'})\n",
    "    updated_fig1.update_layout(title='Average Property Price Over Time')\n",
    "\n",
    "    # Update Plot 2\n",
    "    updated_fig2 = px.line(filtered_transactions_by_year, x='Year', y='num_transactions', labels={'num_transactions': 'Number of Transactions'})\n",
    "    updated_fig2.update_layout(title='Temporal Trends in Property Transactions')\n",
    "\n",
    "    # Update Plot 3\n",
    "    updated_fig3 = px.bar(correlation_pandas, x='avg_price', y='Property_Type', orientation='h',\n",
    "                          labels={'avg_price': 'Average Price', 'Property_Type': 'Property Type'},\n",
    "                          title='Correlation: Average Price and Property Type')\n",
    "\n",
    "    # Calculate filtered_property_type_counts here\n",
    "    filtered_property_type_counts = df.groupBy('Property_Type').count().collect()\n",
    "    filtered_property_type_counts_df = spark.createDataFrame(filtered_property_type_counts).toPandas()\n",
    "\n",
    "    # Update Plot 4\n",
    "    updated_fig4 = px.pie(filtered_property_type_counts_df, names='Property_Type', values='count',\n",
    "                          title='Pie Chart of Property Types',\n",
    "                          labels={'count': 'Count', 'Property_Type': 'Property Type'},\n",
    "                          hole=0.3)\n",
    "\n",
    "    return updated_fig1, updated_fig2, updated_fig3, updated_fig4\n",
    "\n",
    "\n",
    "# Run the local server\n",
    "if __name__ == '__main__':\n",
    "    app.run_server(debug=True)\n",
    "\n",
    "\n",
    "#Reference: https://youtu.be/pGMvvq7R1IM?si=jlXXASTnCEUir6tW\n",
    "#https://youtu.be/hSPmj7mK6ng?si=HIcIDVPDcQNCDjKD\n",
    "#https://youtube.com/playlist?list=PLH6mU1kedUy8fCzkTTJlwsf2EnV_UvOV-&si=vDSzLBX7_1gxaFmb\n",
    "#https://youtu.be/UYGwgHhazMA?si=sqF8455GGF_xOitL\n"
   ]
  },
  {
   "cell_type": "markdown",
   "metadata": {
    "id": "u1mKUppG1zKc"
   },
   "source": [
    "### Prediction Model Attempt (Regression)"
   ]
  },
  {
   "cell_type": "markdown",
   "metadata": {
    "id": "-AtVhx7v-95J"
   },
   "source": [
    "#### Linear regression using Log_Price\n",
    "\n",
    "Model 1: with  [\"County\", \"District\", \"Property_Type\"]\n",
    "\n",
    "Model 2: with [\"County\", \"District\", \"Property_Type\", \"Date_of_Transfer\"]"
   ]
  },
  {
   "cell_type": "code",
   "execution_count": null,
   "metadata": {
    "id": "vxOyR1zy_lF3"
   },
   "outputs": [],
   "source": [
    "from pyspark.sql.functions import col, log\n",
    "\n",
    "#Apply the log transformation to the 'price' column since the price is right-skewed;\n",
    "df = df.withColumn(\"log_price\", log(col(\"price\")))"
   ]
  },
  {
   "cell_type": "code",
   "execution_count": null,
   "metadata": {
    "id": "SsvSHWmN_FZX",
    "outputId": "b5c23ac4-1a65-4530-8b90-47bd26069390"
   },
   "outputs": [
    {
     "name": "stderr",
     "output_type": "stream",
     "text": [
      "23/12/14 19:33:20 WARN Instrumentation: [60fb9234] regParam is zero, which might cause numerical instability and overfitting.\n",
      "Java HotSpot(TM) 64-Bit Server VM warning: CodeCache is full. Compiler has been disabled.\n",
      "Java HotSpot(TM) 64-Bit Server VM warning: Try increasing the code cache size using -XX:ReservedCodeCacheSize=\n"
     ]
    },
    {
     "name": "stdout",
     "output_type": "stream",
     "text": [
      "CodeCache: size=131072Kb used=34587Kb max_used=35316Kb free=96484Kb\n",
      " bounds [0x00000001061a8000, 0x00000001084a8000, 0x000000010e1a8000]\n",
      " total_blobs=13305 nmethods=12291 adapters=926\n",
      " compilation: disabled (not enough contiguous free space left)\n"
     ]
    },
    {
     "name": "stderr",
     "output_type": "stream",
     "text": [
      "23/12/14 19:34:13 WARN InstanceBuilder: Failed to load implementation from:dev.ludovic.netlib.blas.JNIBLAS\n",
      "23/12/14 19:35:34 WARN InstanceBuilder: Failed to load implementation from:dev.ludovic.netlib.lapack.JNILAPACK\n",
      "23/12/14 19:35:34 WARN Instrumentation: [60fb9234] Cholesky solver failed due to singular covariance matrix. Retrying with Quasi-Newton solver.\n",
      "                                                                                \r"
     ]
    },
    {
     "name": "stdout",
     "output_type": "stream",
     "text": [
      "Training - Root Mean Squared Error (RMSE): 0.6846261299389715\n",
      "Training - R-squared (R2): 0.3418214866148984\n"
     ]
    },
    {
     "name": "stderr",
     "output_type": "stream",
     "text": [
      "[Stage 19:======================================================> (36 + 1) / 37]\r"
     ]
    },
    {
     "name": "stdout",
     "output_type": "stream",
     "text": [
      "Testing - Root Mean Squared Error (RMSE): 0.6848736078908225\n",
      "Testing - R-squared (R2): 0.34226030773793736\n"
     ]
    },
    {
     "name": "stderr",
     "output_type": "stream",
     "text": [
      "\r",
      "                                                                                \r"
     ]
    }
   ],
   "source": [
    "from pyspark.ml.feature import StringIndexer, OneHotEncoder, VectorAssembler\n",
    "from pyspark.ml.regression import LinearRegression\n",
    "from pyspark.ml.evaluation import RegressionEvaluator\n",
    "\n",
    "# Perform StringIndexing on categorical columns\n",
    "indexers = [StringIndexer(inputCol=column, outputCol=f\"{column}_index\").fit(df) for column in [\"County\", \"District\", \"Property_Type\"]]\n",
    "\n",
    "# One-hot encode the indexed categorical columns\n",
    "encoders = [OneHotEncoder(inputCol=f\"{column}_index\", outputCol=f\"{column}_encoded\") for column in [\"County\", \"District\", \"Property_Type\"]]\n",
    "\n",
    "# Assemble all features into a single vector\n",
    "assembler = VectorAssembler(inputCols=[\"County_encoded\", \"District_encoded\", \"Property_Type_encoded\"], outputCol=\"features\")\n",
    "\n",
    "# Model building\n",
    "regressor = LinearRegression(featuresCol='features', labelCol='log_price')  # the target variable, 'price'\n",
    "\n",
    "# Pipeline stages\n",
    "stages = indexers + encoders + [assembler, regressor]\n",
    "\n",
    "#solver='sgd' invalid, \"LinearRegression_ffb3bb8c9a9b parameter solver given invalid value sgd.\"\n",
    "\n",
    "# Create a pipeline\n",
    "from pyspark.ml import Pipeline\n",
    "\n",
    "pipeline = Pipeline(stages=stages)\n",
    "\n",
    "# Split the data into training and testing sets\n",
    "df_train, df_test = df.randomSplit([0.75, 0.25])\n",
    "\n",
    "# Fit the model on the training data\n",
    "model = pipeline.fit(df_train)\n",
    "\n",
    "# Make predictions on the training data\n",
    "train_predictions = model.transform(df_train)\n",
    "\n",
    "# Make predictions on the test data\n",
    "test_predictions = model.transform(df_test)\n",
    "\n",
    "# Evaluate the model on training data\n",
    "train_evaluator = RegressionEvaluator(labelCol='log_price', predictionCol='prediction', metricName='rmse')\n",
    "train_rmse = train_evaluator.evaluate(train_predictions)\n",
    "train_r2 = train_evaluator.evaluate(train_predictions, {train_evaluator.metricName: 'r2'})\n",
    "\n",
    "print(f'Training - Root Mean Squared Error (RMSE): {train_rmse}')\n",
    "print(f'Training - R-squared (R2): {train_r2}')\n",
    "\n",
    "# Evaluate the model on testing data\n",
    "test_evaluator = RegressionEvaluator(labelCol='log_price', predictionCol='prediction', metricName='rmse')\n",
    "test_rmse = test_evaluator.evaluate(test_predictions)\n",
    "test_r2 = test_evaluator.evaluate(test_predictions, {test_evaluator.metricName: 'r2'})\n",
    "\n",
    "print(f'Testing - Root Mean Squared Error (RMSE): {test_rmse}')\n",
    "print(f'Testing - R-squared (R2): {test_r2}')\n",
    "\n",
    "#RMSE lower the better\n",
    "\n",
    "# If Using price not log_price, results are:\n",
    "# Training - Root Mean Squared Error (RMSE): 842969.6034398014\n",
    "# Training - R-squared (R2): 0.048671254468623304\n",
    "\n",
    "# Testing - Root Mean Squared Error (RMSE): 861806.6726390235\n",
    "# Testing - R-squared (R2): 0.04627886158735073\n"
   ]
  },
  {
   "cell_type": "code",
   "execution_count": null,
   "metadata": {
    "id": "2RAu1T6Nig1-",
    "outputId": "4ed8a85e-d97e-4ffd-9ea8-2f6d1b883457"
   },
   "outputs": [
    {
     "name": "stderr",
     "output_type": "stream",
     "text": [
      "23/12/14 20:14:32 WARN Instrumentation: [4bbad420] regParam is zero, which might cause numerical instability and overfitting.\n",
      "23/12/14 20:16:37 WARN Instrumentation: [4bbad420] Cholesky solver failed due to singular covariance matrix. Retrying with Quasi-Newton solver.\n",
      "                                                                                \r"
     ]
    },
    {
     "name": "stdout",
     "output_type": "stream",
     "text": [
      "Training - Root Mean Squared Error (RMSE): 0.6845131111017757\n",
      "Training - R-squared (R2): 0.34215752743971906\n"
     ]
    },
    {
     "name": "stderr",
     "output_type": "stream",
     "text": [
      "[Stage 52:======================================================> (36 + 1) / 37]\r"
     ]
    },
    {
     "name": "stdout",
     "output_type": "stream",
     "text": [
      "Testing - Root Mean Squared Error (RMSE): 0.6845266256430099\n",
      "Testing - R-squared (R2): 0.34257116385543074\n"
     ]
    },
    {
     "name": "stderr",
     "output_type": "stream",
     "text": [
      "\r",
      "                                                                                \r"
     ]
    }
   ],
   "source": [
    "from pyspark.ml.feature import StringIndexer, OneHotEncoder, VectorAssembler\n",
    "from pyspark.ml.regression import LinearRegression\n",
    "from pyspark.ml.evaluation import RegressionEvaluator\n",
    "from pyspark.sql.functions import col, unix_timestamp\n",
    "from pyspark.sql.types import StringType\n",
    "\n",
    "# Convert the \"Date_of_Transfer\" column to a string\n",
    "df = df.withColumn(\"Date_of_Transfer_str\", col(\"Date_of_Transfer\").cast(StringType()))\n",
    "\n",
    "# Perform StringIndexing on categorical columns\n",
    "categorical_columns = [\"County\", \"District\", \"Property_Type\"]\n",
    "indexers = [StringIndexer(inputCol=column, outputCol=f\"{column}_index\").fit(df) for column in categorical_columns]\n",
    "\n",
    "# One-hot encode the indexed categorical columns\n",
    "encoders = [OneHotEncoder(inputCol=f\"{column}_index\", outputCol=f\"{column}_encoded\") for column in categorical_columns]\n",
    "\n",
    "# Perform StringIndexing on the \"Date_of_Transfer_str\" column\n",
    "date_indexer = StringIndexer(inputCol=\"Date_of_Transfer_str\", outputCol=\"Date_index\").fit(df)\n",
    "\n",
    "# Assemble all features into a single vector\n",
    "assembler = VectorAssembler(inputCols=[\"County_encoded\", \"District_encoded\", \"Property_Type_encoded\", \"Date_index\"], outputCol=\"features\")\n",
    "\n",
    "# Model building\n",
    "regressor = LinearRegression(featuresCol='features', labelCol='log_price')  # the target variable, 'log_price'\n",
    "\n",
    "# Pipeline stages\n",
    "stages = indexers + encoders + [date_indexer, assembler, regressor]\n",
    "\n",
    "# Create a pipeline\n",
    "from pyspark.ml import Pipeline\n",
    "pipeline = Pipeline(stages=stages)\n",
    "\n",
    "# Split the data into training and testing sets\n",
    "df_train, df_test = df.randomSplit([0.75, 0.25])\n",
    "\n",
    "# Fit the model on the training data\n",
    "model = pipeline.fit(df_train)\n",
    "\n",
    "# Make predictions on the training data\n",
    "train_predictions = model.transform(df_train)\n",
    "\n",
    "# Make predictions on the test data\n",
    "test_predictions = model.transform(df_test)\n",
    "\n",
    "# Evaluate the model on training data\n",
    "train_evaluator = RegressionEvaluator(labelCol='log_price', predictionCol='prediction', metricName='rmse')\n",
    "train_rmse = train_evaluator.evaluate(train_predictions)\n",
    "train_r2 = train_evaluator.evaluate(train_predictions, {train_evaluator.metricName: 'r2'})\n",
    "\n",
    "print(f'Training - Root Mean Squared Error (RMSE): {train_rmse}')\n",
    "print(f'Training - R-squared (R2): {train_r2}')\n",
    "\n",
    "# Evaluate the model on testing data\n",
    "test_evaluator = RegressionEvaluator(labelCol='log_price', predictionCol='prediction', metricName='rmse')\n",
    "test_rmse = test_evaluator.evaluate(test_predictions)\n",
    "test_r2 = test_evaluator.evaluate(test_predictions, {test_evaluator.metricName: 'r2'})\n",
    "\n",
    "print(f'Testing - Root Mean Squared Error (RMSE): {test_rmse}')\n",
    "print(f'Testing - R-squared (R2): {test_r2}')\n",
    "\n",
    "# Drop the temporary column\n",
    "df = df.drop(\"Date_of_Transfer_str\")\n",
    "\n",
    "#RMSE lower the better\n",
    "\n",
    "# If Using price not log_price, results are:\n",
    "# Training - Root Mean Squared Error (RMSE): 868500.6189465981\n",
    "# Training - R-squared (R2): 0.046226447923813474\n",
    "\n",
    "# Testing - Root Mean Squared Error (RMSE): 782011.5693034574\n",
    "# Testing - R-squared (R2): 0.054894329314510326\n"
   ]
  },
  {
   "cell_type": "code",
   "execution_count": 4,
   "metadata": {
    "colab": {
     "base_uri": "https://localhost:8080/"
    },
    "id": "yO6kkVqm0s4O",
    "outputId": "4235b30a-8148-43dc-b340-da36fd3afefe"
   },
   "outputs": [
    {
     "name": "stdout",
     "output_type": "stream",
     "text": [
      "Root Mean Squared Error (RMSE) on test data: 863009.9283936424\n",
      "+-------------+-------+--------------------+----------------+------------------+\n",
      "|Property_Type|Old/New|            District|          County|        prediction|\n",
      "+-------------+-------+--------------------+----------------+------------------+\n",
      "|     Detached|      N|          WINCHESTER|       HAMPSHIRE| 399589.1284692605|\n",
      "|      Terrace|      N|          WANDSWORTH|  GREATER LONDON|417637.20743824006|\n",
      "|      Terrace|      N|               DERBY|      DERBYSHIRE|100180.71453189298|\n",
      "|     Detached|      N|         BOURNEMOUTH|     BOURNEMOUTH|  219088.079813948|\n",
      "|      Terrace|      Y|              WOKING|          SURREY| 277797.5259563302|\n",
      "|Semi-Detached|      N|             GEDLING| NOTTINGHAMSHIRE|123015.90047981434|\n",
      "|         Flat|      N|         BOURNEMOUTH|     BOURNEMOUTH|145558.64339771256|\n",
      "|Semi-Detached|      N|               LUTON|           LUTON| 136022.9754639831|\n",
      "|      Terrace|      N|            TAMWORTH|   STAFFORDSHIRE|125699.65362193291|\n",
      "|      Terrace|      N|            BASILDON|           ESSEX|168196.59612369182|\n",
      "|      Terrace|      N|            TAMWORTH|   STAFFORDSHIRE|125699.65362193291|\n",
      "|      Terrace|      Y|   SOUTH OXFORDSHIRE|     OXFORDSHIRE|259820.34553453472|\n",
      "|         Flat|      N|         NORTHAMPTON|NORTHAMPTONSHIRE|125524.24240802445|\n",
      "|     Detached|      N|         WEST DORSET|          DORSET| 285861.4711455724|\n",
      "|      Terrace|      N|              STROUD| GLOUCESTERSHIRE|169901.10563354028|\n",
      "|         Flat|      N| CITY OF WESTMINSTER|  GREATER LONDON| 684310.4803249242|\n",
      "|Semi-Detached|      N|           ST ALBANS|   HERTFORDSHIRE|281802.97209450614|\n",
      "|Semi-Detached|      N|KING'S LYNN AND W...|         NORFOLK|142608.33404840805|\n",
      "|     Detached|      N|             WALSALL|   WEST MIDLANDS|182509.23246986413|\n",
      "|      Terrace|      N|         NORTH DEVON|           DEVON|162116.90064061387|\n",
      "+-------------+-------+--------------------+----------------+------------------+\n",
      "only showing top 20 rows\n",
      "\n"
     ]
    }
   ],
   "source": [
    "# Random forest model; takes 37 mins to run;\n",
    "\n",
    "from pyspark.ml.feature import VectorAssembler, StringIndexer\n",
    "from pyspark.ml.regression import RandomForestRegressor, DecisionTreeRegressor\n",
    "from pyspark.ml import Pipeline\n",
    "from pyspark.ml.evaluation import RegressionEvaluator\n",
    "\n",
    "# Select relevant columns\n",
    "columns = [\"Property_Type\", \"Old/New\", \"District\", \"County\"]\n",
    "\n",
    "# StringIndexer to convert string features to numerical indices\n",
    "indexers = [StringIndexer(inputCol=columns, outputCol=columns+\"_index\").fit(df) for columns in [\"Property_Type\", \"Old/New\", \"District\", \"County\"]]\n",
    "\n",
    "# VectorAssembler to create feature vector\n",
    "feature_cols = [\"Property_Type_index\", \"Old/New_index\", \"District_index\", \"County_index\"]\n",
    "assembler = VectorAssembler(inputCols=feature_cols, outputCol=\"features\")\n",
    "\n",
    "# Define the RandomForestRegressor\n",
    "rf = RandomForestRegressor(featuresCol=\"features\", labelCol=\"Price\", maxBins=467)\n",
    "\n",
    "# Create a pipeline\n",
    "pipeline = Pipeline(stages=indexers + [assembler, rf])\n",
    "\n",
    "# Split the data into training and test sets\n",
    "(train_data, test_data) = df.randomSplit([0.8, 0.2], seed=42)\n",
    "\n",
    "# Train the model\n",
    "model = pipeline.fit(train_data)\n",
    "\n",
    "# Make predictions on the test data\n",
    "prediction = model.transform(test_data)\n",
    "\n",
    "# Evaluate the model\n",
    "evaluator = RegressionEvaluator(labelCol=\"Price\", predictionCol=\"prediction\", metricName=\"rmse\")\n",
    "rmse = evaluator.evaluate(prediction)\n",
    "print(f\"Root Mean Squared Error (RMSE) on test data: {rmse}\")\n",
    "\n",
    "# Display predictions\n",
    "prediction.select(\"Property_Type\", \"Old/New\", \"District\", \"County\", \"prediction\").show()\n",
    "\n",
    "#  RMSE is 8365432."
   ]
  },
  {
   "cell_type": "markdown",
   "metadata": {
    "id": "9rF1pLDdlIF_"
   },
   "source": [
    "### Conclusion and recommendations based on the analysis:\n"
   ]
  },
  {
   "cell_type": "code",
   "execution_count": null,
   "metadata": {
    "id": "aMrlmf-tlM3N"
   },
   "outputs": [],
   "source": [
    "# Conclusion and Recommendations\n",
    "\n",
    "\n",
    "# mac users face a lot challenges,\n",
    "# so a windows PC would be a better recommendation so we can use cloudera for data pre-processing instead of google colab\n",
    "# Colab has an issue with automatically saving changes\n",
    "\n",
    "#consider removing the outliers,\n",
    "#or divide price into groups based on domain knowledge of the UK property market to run classification model."
   ]
  }
 ],
 "metadata": {
  "accelerator": "GPU",
  "colab": {
   "gpuType": "T4",
   "provenance": []
  },
  "kernelspec": {
   "display_name": "Python 3 (ipykernel)",
   "language": "python",
   "name": "python3"
  },
  "language_info": {
   "codemirror_mode": {
    "name": "ipython",
    "version": 3
   },
   "file_extension": ".py",
   "mimetype": "text/x-python",
   "name": "python",
   "nbconvert_exporter": "python",
   "pygments_lexer": "ipython3",
   "version": "3.12.0"
  }
 },
 "nbformat": 4,
 "nbformat_minor": 4
}
